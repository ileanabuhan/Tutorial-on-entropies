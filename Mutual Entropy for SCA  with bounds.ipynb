{
 "cells": [
  {
   "cell_type": "code",
   "execution_count": 1,
   "metadata": {},
   "outputs": [],
   "source": [
    "import numpy as np\n",
    "import matplotlib.pyplot as plt\n",
    "from IPython.display import display\n",
    "from scipy.stats import norm, entropy\n",
    "import scipy.stats as ss\n",
    "from sklearn.model_selection import KFold"
   ]
  },
  {
   "cell_type": "markdown",
   "metadata": {},
   "source": [
    "Ack: this notebook has been written by Ileana Buhan and Olivier Bronchain. Discussions with Kostas Papagiannopoulos were instrumentantal for deriving the formula for mutual information applied to SCA."
   ]
  },
  {
   "cell_type": "markdown",
   "metadata": {},
   "source": [
    "## Modeling the True Leakage\n",
    "\n",
    "\n",
    "The notation used here is chosen to match the notation used in the paper of Bronchain et al. https://eprint.iacr.org/2019/132.pdf\n",
    "\n",
    "Simulations settings and notations:\n",
    "* Random variable letters are denoted with capital letters and their realisation with lower cases.\n",
    "* We are interested in the leakage $L$ associated to an intermediate (sensible) variable $K$. In the following, we take $K$ as a 2-bit binary variable, so $K$ can take 4 values.\n",
    "* We assume the discrete variable $K$ follows a uniform distribution.  \n",
    "* For a given value of $K$ denoted $k$, the probability to observe $l$ is mathematically written as $p(l|k)$ and in code is refered to as$p_l_k$. In our case, the samples are generated according to four conditional probabilities, one for each value of $k$.\n",
    "* We assume normal distribution, with a given mean and std. This means that each $p(l|k)$ follows a Gaussian distribution. This distribution is called the \"True distribution\" because it does not suffer from estimation issues.\n",
    "* Leakage samples are generated according to these \"True distributions\". \n"
   ]
  },
  {
   "cell_type": "code",
   "execution_count": 2,
   "metadata": {},
   "outputs": [],
   "source": [
    "number_bits=2\n",
    "number_classes=2**number_bits #the total number of values taken by the target intermediate\n",
    "\n",
    "#setting the probability of the key\n",
    "p_k= np.ones(number_classes, dtype=np.float64)\n",
    "p_k/=number_classes\n",
    "\n",
    "\n",
    "#defining the values for p(l|k), for the 4 different values of k\n",
    "norm_params = np.array([[1, 4],[0,2], [0, 5], [-1, 4]])\n",
    "#norm_params = np.array([[0, 0.1],[1, .1],[2, .1], [3, .1]])"
   ]
  },
  {
   "cell_type": "markdown",
   "metadata": {},
   "source": [
    "## Lets measure!\n",
    "\n",
    "To simulate the measurement process, we sample data from the \"True distributions\".\n"
   ]
  },
  {
   "cell_type": "code",
   "execution_count": 3,
   "metadata": {},
   "outputs": [],
   "source": [
    "def measure_data(p_k,norm_params,number_samples=100):\n",
    "    \"\"\" \n",
    "    p_k = discrete probability distribution if K\n",
    "    norm_params = parameters of the true distributions\n",
    "    number_samples = number of samples for each class of K. This corresponds to n^k_p\n",
    "\n",
    "    returns leakage samples correponding to the target intermediate K and norm_params\n",
    "    \"\"\"\n",
    "    data = {}\n",
    "    for k, _ in enumerate(p_k):\n",
    "        data[k]= ss.norm.rvs(*(norm_params[k]),size=number_samples)\n",
    "    return data\n",
    "\n",
    "true_data=measure_data(p_k, norm_params)"
   ]
  },
  {
   "cell_type": "markdown",
   "metadata": {},
   "source": [
    "### Visualize the histogram of the measured data"
   ]
  },
  {
   "cell_type": "code",
   "execution_count": 4,
   "metadata": {},
   "outputs": [
    {
     "data": {
      "image/png": "[encoded data removed]",
      "text/plain": [
       "<Figure size 432x288 with 1 Axes>"
      ]
     },
     "metadata": {
      "needs_background": "light"
     },
     "output_type": "display_data"
    }
   ],
   "source": [
    "def visualize_distribution_points(data_dictionary, b='auto'):\n",
    "    \"\"\"\n",
    "    plot the histogram of the elements in the lists\n",
    "    as a function of the key values\n",
    "    \n",
    "    data_dictionary =  dictionary of lists, the key is the value of the keys and values are the samples l\n",
    "                    = k: [l_0,l_1,....l_n]\n",
    "    \n",
    "    \"\"\"\n",
    "    for k in data_dictionary:\n",
    "\n",
    "        plt.hist(data_dictionary[k], bins=b,density=True,alpha = 0.5,label='$k = %d$'%k)\n",
    "    plt.xlabel(\"$p(l)$\")\n",
    "    plt.ylabel(\"$pr(l|k)$\")\n",
    "    plt.legend()\n",
    "    plt.show()\n",
    "\n",
    "visualize_distribution_points(true_data)"
   ]
  },
  {
   "cell_type": "markdown",
   "metadata": {},
   "source": [
    "## Calculating Mutual Information for SCA"
   ]
  },
  {
   "cell_type": "markdown",
   "metadata": {},
   "source": [
    "### Notations:\n",
    "* $H(K)$ is the entropy of $K$. If uniform, this corresponds to the number of bits in $K$.\n",
    "* $H(K|L)$ is the conditional entropy. It is the entropy of $K$ given leakage $L$.\n",
    "* $I(K;L)$ is the mutual information between $K$ and $L$ and it represents the amount of information the two variables provide about eachother.  These terms are related such that\n",
    "$$H(K|L) = H(K) - I(K;L).$$\n",
    "\n",
    "Calculating these terms requires to know the analytical form for the distribution of both $K$ and $L$.\n",
    "\n",
    "### Interest for Side Channel\n",
    "In side-channel context, it is interesting to learning $H(K|L)$ or equivalently $I(K;L)$ (since $H(K)$ is typically known in cryptographic contextm as $K$ is uniformly distributed). \n",
    "\n",
    "Informally,  $I(K;L)$ is the loss of entropy of $K$ given a leakage samples $L$. The data complexity of an attack can be approximated as the number of traces required to reduce the conditional entropy $H(K|L)$ to zero. Roughly, this gives:\n",
    "$$N_{attack} \\propto \\frac{H(K)}{I(K;L)}.$$\n",
    "\n",
    "### Deriving an expression for $I(K;L)$ in the context of SCA\n",
    "\n",
    "As written above, the classic formula is  $I(K,L)=H(K)-H(K|L).$ A problem  for directly applying the formula is that we do not know the value of $H(K|L)$. Let see why. The classic formula for conditional entropy is: $$H(K|L)=\\sum_{k,l} \\color{red}{p(l)}\\color{red}{p(k|l)}\\log_2\\color{red}{p(k|l)},$$ where the distributions marked in red are unknown. In the SCA scenario, we can only observe the following distributions:\n",
    "* $p(k)$ the distribution of the secret variable, typically uniform.\n",
    "* $p(l|k)$ can only be sampled from power or EM traces in a pratical context. Its estimation is next denoted as $\\hat{p}(l|k)$. In a simulated setting, the analytical expression of this can be known and so $p(l|k) = \\hat{p}(l|k)$. \n",
    "\n",
    "So how do we compute  mutual information ? An ingenuous solution is known, fear not! By applying Bayes law, we know that: $\\color{red}{p(k|l)}\\color{red}{p(l)}=p(l|k)p(k)$. This is better! We can now re-write the formula above as: $$H(K|L)=\\sum_{k,l} p(k)p(l|k)log_2\\color{red}{p(k|l)},$$ and we are left with only one distribution that we cannot observe namely $\\color{red}{p(k|l)}$. \n",
    "\n",
    "However, by applying Bayes formula again, we can write $\\color{red}{p(k|l)}= \\frac{p(l|k)p(k)}{\\color{red}{p(l)}}$and now, by applying the formula for computing marginal probabilities we have: $\\color{red}{p(l)}=\\sum_{k^{*}}p(l|k^{*})p(k^{*}).$ When the variable $K$ is uniformly distributed, we can write: $p(k|l)=\\frac{p(l|k)}{\\sum{k^*}p(l|k^*)}$\n",
    "\n",
    "Finally, by combining all the pieces of the puzzle, we now have:\n",
    "\n",
    "$$H(K|L)=\\sum_{k,l} p(k)p(l|k)\\log_2 \\frac{p(l|k)p(k)}{\\sum_{k^*}{p(l|k^*)} p(k^*)}.$$ \n",
    "\n",
    "### Computation of $I(K;L)$\n",
    "In order to compute the previous expression in a side-channel context. One has access to the following:\n",
    "* $n^k_p$ observed leakage from $p(l|k)$ where the $i$-th observation is denoted as $l^{k}_i$.\n",
    "* $p(k)$ is typically known and uniformed.\n",
    "* $\\hat{p}(k|l)$ a model estimating the leakage distribution. This is used to compute the last term in the previous equation.\n",
    "\n",
    "Then, the previous expression is computed by sampling with:\n",
    "$$\\hat{H}(K|L) = \\sum_{k} p(k) \\cdot \\color{blue}{\\sum_{i=1}^{n^k_p} \\frac{1}{n^k_p}} \\cdot \\log_2 \\color{green}{\\frac{\\hat{p}(l^k_i|k)p(k)}{\\sum_{k^*}{\\hat{p}(l^k_i|k^*)} p(k^*)}}$$\n",
    "There, the blue part corresponds to the true leakage distribution that is sampled. The green term corresponds to the modeled distribution.\n",
    "\n",
    "Lets go and implement the formula to compute $\\hat{I}(K;L)$."
   ]
  },
  {
   "cell_type": "code",
   "execution_count": 5,
   "metadata": {},
   "outputs": [
    {
     "name": "stdout",
     "output_type": "stream",
     "text": [
      "MI is 0.145023\n"
     ]
    }
   ],
   "source": [
    "def information(p_k,data,model):\n",
    "    \"\"\"\n",
    "    implements I(K;L)\n",
    "    \n",
    "    p_k = the distribution of the sensitive variable K\n",
    "    data = the samples we 'measured'. It its the n^k_p samples from p(l|k)\n",
    "    model = the estimated model \\hat{p}(l|k).\n",
    "\n",
    "    returns an estimated of mutual information\n",
    "    \"\"\"\n",
    "    N_k = len(p_k)              #N_k is the number of possible values for $K$\n",
    "    acc = entropy(p_k,base=2)   #we initialize the value with H(K)\n",
    "    for k in range(N_k):\n",
    "        l = data[k]\n",
    "        p_l_k = np.zeros((N_k,len(l)))\n",
    "        for k_star in range(N_k):\n",
    "            p_l_k[k_star,:] = ss.norm.pdf(l,*(model[k_star]))\n",
    "        p_l=np.sum(p_k*(p_l_k).T,axis=1)\n",
    "        p_k_l =  p_k[k]*p_l_k[k,:]/ p_l\n",
    "        acc += p_k[k] * np.mean(np.log2(p_k_l))\n",
    "    return acc\n",
    "import statsmodels.api as sm\n",
    "\n",
    "data=measure_data(p_k, norm_params, number_samples=10000)\n",
    "MI = information(p_k,data,norm_params)\n",
    "print(\"MI is %f\"%(MI))"
   ]
  },
  {
   "cell_type": "markdown",
   "metadata": {},
   "source": [
    "## Bounds on Mutual Information\n",
    "\n",
    "The following information graphs allows to compute all the information metrics according to what we set to the inputs:\n",
    "\n",
    "* 𝑀𝐼 : the model and the data should perfectly match ($p(l|k) = \\hat{p}(l|k)$). Therefore, not feasible on real measurements because you never know perfectly the model\n",
    "* 𝑃𝐼 : the model $\\hat{p}(l|k)$ is estimated $n^k_t$ samples which are different than the $n^k_p$ samples. From a fixed size data set, PI is so computed with cross-validation.\n",
    "* 𝐻𝐼 : the model $\\hat{p}(l|k)$ is estimated on data than the $n^k_p$ samples.\n",
    "\n",
    "What's the relation between all these for  𝑛𝑡←∞ :\n",
    "\n",
    "* 𝐻𝐼  is an average upper bound to  𝑀𝐼 if the model estimation is non parametric ($\\hat{p}(k|l)$ converges to $p(k|l)$ whate ever $p(k|l)$).\n",
    "* 𝑃𝐼  is an average lower bound to  𝑀𝐼 . The two matches perfectly if the model is non parametric or if no modeling error is introduced (ie. we assume leakage is Gaussian and the real leakage is perfectly Gaussian).\n",
    "\n",
    "Therefore, if the models used are non parametrics, both  𝐻𝐼  and  𝑃𝐼  converges to  𝑀𝐼  and  𝑃𝐼  is a lower bound to  𝑀𝐼  and  𝐻𝐼  is the upper bound."
   ]
  },
  {
   "cell_type": "code",
   "execution_count": 6,
   "metadata": {},
   "outputs": [
    {
     "name": "stdout",
     "output_type": "stream",
     "text": [
      "PI is 0.133190\n",
      "HI is 0.135488\n",
      "MI is 0.145023\n"
     ]
    }
   ],
   "source": [
    "data_build_model=measure_data(p_k, norm_params,number_samples=1000)\n",
    "data_fresh=measure_data(p_k, norm_params,number_samples=1000)\n",
    "\n",
    "\n",
    "esti_models = [None for i in p_k]\n",
    "for k in range(len(p_k)):\n",
    "    esti_models[k] = [np.mean(data_build_model[k]),np.std(data_build_model[k])]\n",
    "\n",
    "PI = information(p_k,data_fresh,esti_models)\n",
    "HI = information(p_k,data_build_model,esti_models)\n",
    "print(\"PI is %f\"%(PI))\n",
    "print(\"HI is %f\"%(HI))\n",
    "print(\"MI is %f\"%(MI))"
   ]
  },
  {
   "cell_type": "markdown",
   "metadata": {},
   "source": [
    "## Convergence plots for PI and HI\n",
    "\n",
    "Next, we show convergence of PI and HI. This allows to observe the convergence of the used estimator for given data."
   ]
  },
  {
   "cell_type": "code",
   "execution_count": 7,
   "metadata": {},
   "outputs": [],
   "source": [
    "N_s= 1000\n",
    "n_fold = 10\n",
    "N_av = 50\n",
    "\n",
    "def keep_measures(p_k,data_orig,I):\n",
    "    \"\"\" p_k: discrete probability distribution if K\n",
    "        data_orig: set from which we select samples\n",
    "        I: the indexes of the measures to keep\n",
    "\n",
    "        returns a slice of data_orig\n",
    "    \"\"\"\n",
    "    data = [data_orig[k][I] for k in range(len(p_k))]\n",
    "    return data\n",
    "\n",
    "### Generate data\n",
    "data=measure_data(p_k, norm_params,number_samples=100000)\n",
    "\n",
    "# data are exactly the one from the model, \n",
    "# this can not be done in real settings because norm_params are unkown\n",
    "MI = information(p_k,data,norm_params)"
   ]
  },
  {
   "cell_type": "code",
   "execution_count": 9,
   "metadata": {},
   "outputs": [
    {
     "data": {
      "image/png": "[encoded data removed]",
      "text/plain": [
       "<Figure size 432x288 with 1 Axes>"
      ]
     },
     "metadata": {
      "needs_background": "light"
     },
     "output_type": "display_data"
    }
   ],
   "source": [
    "# Estimating PI and HI for various sampling efforts\n",
    "N_HI = np.logspace(np.log10(5),np.log10(N_s),20,dtype=int)\n",
    "N_PI = np.logspace(np.log10(5),np.log10(N_s*(1-1/n_fold)),20,dtype=int)\n",
    "PI = np.zeros(len(N_HI))\n",
    "HI = np.zeros(len(N_PI))\n",
    "kf = KFold(n_splits=n_fold)\n",
    "\n",
    "\n",
    "for av in range(N_av):\n",
    "    # fresh data to compute the HI and PI on\n",
    "    data = measure_data(p_k, norm_params,number_samples=N_HI[-1])\n",
    "    \n",
    "    #HI\n",
    "    for i,n_p in enumerate(N_HI):\n",
    "        # Keep the n first data samples\n",
    "        data_n = keep_measures(p_k=p_k,data_orig=data,I=np.arange(n_p))\n",
    "        \n",
    "        #estimate model with n samples\n",
    "        esti_models = [None for i in p_k]\n",
    "        for k in range(len(p_k)):\n",
    "            esti_models[k] = [np.mean(data_n[k]),np.std(data_n[k])]\n",
    "        HI[i] += information(p_k,data_n,esti_models)\n",
    "\n",
    "    #PI\n",
    "    PI_x = np.zeros(PI.shape)\n",
    "    for train_index, test_index in kf.split(range(N_s)):\n",
    "        data_model = keep_measures(p_k=p_k,data_orig=data,I=train_index)\n",
    "        data_p = keep_measures(p_k=p_k,data_orig=data,I=test_index)\n",
    "\n",
    "        for i,n in enumerate(N_PI):\n",
    "            data_model_nt = keep_measures(p_k=p_k,data_orig=data_model,I=range(n))\n",
    "    \n",
    "            #generate fresh samples\n",
    "            esti_models = [None for i in p_k]\n",
    "            for k in range(len(p_k)):\n",
    "                esti_models[k] = [np.mean(data_model_nt[k]),np.std(data_model_nt[k])]\n",
    "            PI_x[i] += information(p_k,data_p,esti_models)\n",
    "    PI += PI_x/n_fold\n",
    "HI /= N_av\n",
    "PI /= N_av\n",
    "\n",
    "#visualize plots\n",
    "plt.figure()\n",
    "plt.semilogx(N_HI,HI,label=\"HI\",color=\"r\")\n",
    "plt.semilogx(N_PI,PI,label=\"PI\",color=\"g\")\n",
    "plt.axhline(MI,label=\"MI\",color=\"b\",ls=\"--\")\n",
    "plt.grid(True,which=\"both\",ls=\"--\")\n",
    "plt.xlabel(\"n_t\")\n",
    "plt.ylabel(\"Information\")\n",
    "plt.legend()\n",
    "plt.show()"
   ]
  },
  {
   "cell_type": "code",
   "execution_count": null,
   "metadata": {},
   "outputs": [],
   "source": []
  }
 ],
 "metadata": {
  "kernelspec": {
   "display_name": "Python 3",
   "language": "python",
   "name": "python3"
  },
  "language_info": {
   "codemirror_mode": {
    "name": "ipython",
    "version": 3
   },
   "file_extension": ".py",
   "mimetype": "text/x-python",
   "name": "python",
   "nbconvert_exporter": "python",
   "pygments_lexer": "ipython3",
   "version": "3.7.3"
  }
 },
 "nbformat": 4,
 "nbformat_minor": 4
}
