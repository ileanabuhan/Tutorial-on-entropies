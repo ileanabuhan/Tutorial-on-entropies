{
 "cells": [
  {
   "cell_type": "code",
   "execution_count": 1,
   "metadata": {},
   "outputs": [],
   "source": [
    "import numpy as np\n",
    "import matplotlib.pyplot as plt\n",
    "import pandas as pd\n",
    "from collections import Counter #for counting elements in a histogram\n",
    "from scipy.stats.kde import gaussian_kde\n",
    "import statsmodels.api as sm\n",
    "from statsmodels.nonparametric.bandwidths import bw_silverman, bw_scott, select_bandwidth\n",
    "from IPython.display import display\n",
    "from scipy.integrate import quad\n",
    "from scipy.stats import norm, entropy\n",
    "from scipy.stats import rayleigh\n",
    "from scipy.stats import binom\n",
    "import seaborn as sns\n",
    "import scipy.stats as ss\n",
    "from sklearn.neighbors import KernelDensity"
   ]
  },
  {
   "cell_type": "markdown",
   "metadata": {},
   "source": [
    "## Estimation of Shannon entropy\n",
    "\n",
    "When we want to calculate for a data set, for which we do not know the analytical formula,  we can no longer **calculate** the entropy, but only **estimate** entropy. \n",
    "The first step then, is  to estimate a pdf, as described above\n",
    "\n",
    "<b> To explore the concepts in this notebook: </b>:\n",
    "* compare the entropy values of the estimated set with the analytical value of the entropy in the cell output;\n",
    "* run the cell a couple of time and see how the estimate changes as a function of the random number generated;\n",
    "* change the number of points availabe for estimating the pdf, by changing the value of the variable ```samples``` and observe the difference in entropy\n",
    "\n"
   ]
  },
  {
   "cell_type": "code",
   "execution_count": 3,
   "metadata": {},
   "outputs": [
    {
     "name": "stdout",
     "output_type": "stream",
     "text": [
      "Entropy value =  3.0470955851806423\n",
      "H(X) (true):     3.101851507400887\n",
      "H(X) (crude):    3.0985811531540732\n",
      "H(X) (KDE):      3.0067320240140405\n",
      "H(X) (hist):     2.9984540194989875\n"
     ]
    }
   ],
   "source": [
    "def entropy_estimate_true(x, m, s):\n",
    "    \"\"\"  \n",
    "    Estimate Shannon Entropy of the dataset x, using\n",
    "    the analytical formula of the true distribution is known\n",
    "    \n",
    "    x = input data\n",
    "    m = true mean \n",
    "    s = true standard deviation \n",
    "    \n",
    "    returns H(X) - estimate Shannon Entropy\n",
    "    \"\"\"\n",
    "    p_x=ss.norm.pdf(x,m,s)\n",
    "    return -np.mean(np.where(p_x != 0, np.log2(p_x), 0))\n",
    "\n",
    "def entropy_estimate_crude(x):\n",
    "    \"\"\" \n",
    "    Estimate the Shannon Entropy for dataset x\n",
    "    using estimated mean and standard deviation\n",
    "          \n",
    "    x = input data\n",
    "    \n",
    "    returns H(X) - estimate Shannon Entropy\n",
    "    \"\"\"\n",
    "    (m,s)=[np.mean(x),np.std(x)]\n",
    "    p_x=ss.norm.pdf(x,m,s)\n",
    "    return -np.mean(np.where(p_x != 0, np.log2(p_x), 0))\n",
    "  \n",
    "def entropy_estimate_kde(x, bandwidth=0.4):\n",
    "    \"\"\" \n",
    "    Estimate the Shannon Entropy for dataset x\n",
    "    using the KDE for density estimation\n",
    "          \n",
    "    x = input data\n",
    "    \n",
    "    returns H(X) - estimate Shannon Entropy\n",
    "    \"\"\"\n",
    "    kde= KernelDensity(bandwidth, kernel='gaussian').fit(x[:, np.newaxis])\n",
    "    p_x = np.exp(kde.score_samples(x[:, np.newaxis]))\n",
    "   \n",
    "    return -np.mean(np.where(p_x > 0, np.log2(p_x), 0))\n",
    "   \n",
    "def entropy_estimate_hist(xs_syntetic, b='auto'):\n",
    "    \"\"\" \n",
    "    Estimate the Shannon Entropy for dataset x\n",
    "    using the histogram method\n",
    "          \n",
    "    x = input data\n",
    "    \n",
    "    returns H(X) - estimate Shannon Entropy\n",
    "    \"\"\"\n",
    "\n",
    "    ys_freq,ys_hist=np.histogram(xs_syntetic,bins=b)\n",
    "    bin_size=ys_hist[1]-ys_hist[0]\n",
    "    p_y=ys_freq/len(xs_syntetic)\n",
    "    acc=0\n",
    "    if bin_size > 0:\n",
    "        for p in p_y:\n",
    "            if p/bin_size > 0:\n",
    "                acc += p * np.log2(p/bin_size)\n",
    "    return(-acc)      \n",
    "    #return -np.sum(np.where(p_y/bin_size > 0, p_y * np.log2(p_y/bin_size), 0))\n",
    "    \n",
    "\n",
    "def entropy_normal(f,m,s):\n",
    "    \"\"\" \n",
    "    Calculates the Shannon Entropy for variable x, \n",
    "    when we known the formula for the probability density function \n",
    "          \n",
    "    f = formula for probability density\n",
    "    m = first order moment\n",
    "    s = second order moment\n",
    "    \n",
    "    returns H(X) - Shannon Entropy\n",
    "    \"\"\"\n",
    "    g= lambda x:f(x,m,s)\n",
    "    def g_log(x):\n",
    "        temp=g(x)\n",
    "        if temp==0:\n",
    "            return 0\n",
    "        else:\n",
    "            return temp*(np.log2(temp))\n",
    "    i,err=quad(g_log, -np.inf,np.inf)\n",
    "    return -i\n",
    "\n",
    "\n",
    "m=-2 \n",
    "s=2\n",
    "\n",
    "samples=150\n",
    "xs_syntetic=ss.norm.rvs(m,s,samples)\n",
    "print('Entropy value =  ' +str(entropy_normal(norm.pdf,m,s)))\n",
    "print('H(X) (true):    ',entropy_estimate_true(xs_syntetic, m,s))\n",
    "print('H(X) (crude):   ',entropy_estimate_crude(xs_syntetic))\n",
    "print('H(X) (KDE):     ',entropy_estimate_kde(xs_syntetic, bandwidth=0.4))\n",
    "print('H(X) (hist):    ',entropy_estimate_hist(xs_syntetic))\n"
   ]
  },
  {
   "cell_type": "markdown",
   "metadata": {},
   "source": [
    "## Precision of estimation\n",
    "\n",
    "In this section we explore the precision of the estimation as a function of the number of samples we have available.\n",
    "We expect that the more points we have in the dataset, the closer the estimated values will be to the true value. The raeson being that estimated mean and standard deviation will be to the true mean and standard deviation. \n",
    "\n",
    "<b> To explore the concepts in this section: </b>:\n",
    "* change the parameters of the probability density, by changing the values of ```m```, the mean, and ```s```  standard density values;\n",
    "* run the cell a couple of time and see how the estimate changes as a function of the generated dataset;\n",
    "* consider the following questions: Are our assumptions correct? The more points we have the more precise the estimation becomes?  How does the standard deviation value influence the precision of the estimate? Which of the three estimations methods seems to perform best?\n",
    "\n"
   ]
  },
  {
   "cell_type": "code",
   "execution_count": 8,
   "metadata": {},
   "outputs": [
    {
     "data": {
      "image/png": "[encoded data removed]",
      "text/plain": [
       "<Figure size 432x288 with 1 Axes>"
      ]
     },
     "metadata": {
      "needs_background": "light"
     },
     "output_type": "display_data"
    }
   ],
   "source": [
    "m=-2\n",
    "s=5\n",
    "\n",
    "min_points = 50 #the minimum points in the set to start estimation\n",
    "max_points = 10000 # the maximum number of points \n",
    "step = 1000\n",
    "samples = list(range(min_points,max_points,step))\n",
    "\n",
    "hx_theory = np.zeros(len(samples))+ entropy_normal(norm.pdf,m,s)\n",
    "hx_true = np.zeros(len(samples))\n",
    "hx_crude = np.zeros(len(samples))\n",
    "hx_kde = np.zeros(len(samples))\n",
    "hx_hist = np.zeros(len(samples))\n",
    "\n",
    "for i,value in enumerate(samples):\n",
    "    #xs_syntetic=ss.norm.rvs(m,s,value, random_state=1234)\n",
    "    xs_syntetic=ss.norm.rvs(m,s,value)\n",
    "    hx_true[i]=entropy_estimate_true(xs_syntetic, m,s)\n",
    "    hx_crude[i]=entropy_estimate_crude(xs_syntetic)\n",
    "    hx_kde[i] = entropy_estimate_kde(xs_syntetic, bandwidth=0.4)\n",
    "    hx_hist[i]= entropy_estimate_hist(xs_syntetic)\n",
    "    \n",
    "\n",
    "\n",
    "plt.plot(samples, hx_theory, label='Theoretical value')\n",
    "plt.plot(samples, hx_true, label='True probabilities')\n",
    "plt.plot(samples, hx_crude, label='Crude probabilities')\n",
    "plt.plot(samples, hx_kde, label='KDE estimator')\n",
    "plt.plot(samples, hx_hist, label='Histogram estimator')\n",
    "plt.xlabel('Number of samples used for estimation')\n",
    "plt.ylabel('Estimated entropy values')\n",
    "plt.legend()\n",
    "plt.show()"
   ]
  },
  {
   "cell_type": "code",
   "execution_count": null,
   "metadata": {},
   "outputs": [],
   "source": []
  }
 ],
 "metadata": {
  "kernelspec": {
   "display_name": "Python 3",
   "language": "python",
   "name": "python3"
  },
  "language_info": {
   "codemirror_mode": {
    "name": "ipython",
    "version": 3
   },
   "file_extension": ".py",
   "mimetype": "text/x-python",
   "name": "python",
   "nbconvert_exporter": "python",
   "pygments_lexer": "ipython3",
   "version": "3.7.3"
  }
 },
 "nbformat": 4,
 "nbformat_minor": 4
}
